{
  "nbformat": 4,
  "nbformat_minor": 0,
  "metadata": {
    "colab": {
      "provenance": []
    },
    "kernelspec": {
      "name": "python3",
      "display_name": "Python 3"
    },
    "language_info": {
      "name": "python"
    }
  },
  "cells": [
    {
      "cell_type": "code",
      "execution_count": 4,
      "metadata": {
        "colab": {
          "base_uri": "https://localhost:8080/"
        },
        "id": "FTmCJhdrk-4L",
        "outputId": "110cfffb-f9fc-4d9f-9058-14b515996887"
      },
      "outputs": [
        {
          "output_type": "stream",
          "name": "stdout",
          "text": [
            "Coeficientes de la función lineal:\n",
            "beta0 = 2.805747\n",
            "beta1 = 1.912623\n",
            "beta2 = -1.49234\n",
            "Coeficiente de correlación:\n",
            "r = 0.997729\n"
          ]
        }
      ],
      "source": [
        "import numpy as np\n",
        "from scipy import stats\n",
        "\n",
        "# Datos de entrada\n",
        "x1 = np.array([0,2,2.5,1,4,7])\n",
        "x2 = np.array([0,1,2,3,6,2])\n",
        "y = np.array([2.5,5.5,5,0,1.5,13])\n",
        "\n",
        "# Ajuste de la función lineal\n",
        "X = np.vstack((np.ones(len(x1)), x1, x2)).T\n",
        "beta, _, _, _ = np.linalg.lstsq(X, y, rcond=None)\n",
        "\n",
        "# Coeficiente de correlación\n",
        "r, _ = stats.pearsonr(y, np.dot(X, beta))\n",
        "\n",
        "# Resultados\n",
        "print(\"Coeficientes de la función lineal:\")\n",
        "print(\"beta0 =\", round(beta[0], 6))\n",
        "print(\"beta1 =\", round(beta[1], 6))\n",
        "print(\"beta2 =\", round(beta[2], 6))\n",
        "print(\"Coeficiente de correlación:\")\n",
        "print(\"r =\", round(r, 6))\n"
      ]
    },
    {
      "cell_type": "code",
      "source": [
        "import numpy as np\n",
        "from scipy import stats\n",
        "\n",
        "# Datos de entrada\n",
        "x1 = np.array([1,1,2,3,1,2,3,3])\n",
        "x2 = np.array([0,1,1,2,2,3,3,1])\n",
        "y = np.array([3.2,6,2.2,2.5,6.5,6.6,3.5,0.2])\n",
        "\n",
        "# Ajuste de la función lineal\n",
        "X = np.vstack((np.ones(len(x1)), x1, x2)).T\n",
        "beta, _, _, _ = np.linalg.lstsq(X, y, rcond=None)\n",
        "\n",
        "# Coeficiente de correlación\n",
        "r, _ = stats.pearsonr(y, np.dot(X, beta))\n",
        "\n",
        "# Resultados\n",
        "print(\"Coeficientes de la función lineal:\")\n",
        "print(\"beta0 =\", round(beta[0], 6))\n",
        "print(\"beta1 =\", round(beta[1], 6))\n",
        "print(\"beta2 =\", round(beta[2], 6))\n",
        "print(\"Coeficiente de correlación:\")\n",
        "print(\"r =\", round(r, 6))\n"
      ],
      "metadata": {
        "colab": {
          "base_uri": "https://localhost:8080/"
        },
        "id": "X_udfvfpqOz4",
        "outputId": "7941ec6b-d420-44a0-8c54-6b2467aac5f8"
      },
      "execution_count": 5,
      "outputs": [
        {
          "output_type": "stream",
          "name": "stdout",
          "text": [
            "Coeficientes de la función lineal:\n",
            "beta0 = 5.870588\n",
            "beta1 = -2.490196\n",
            "beta2 = 1.813725\n",
            "Coeficiente de correlación:\n",
            "r = 0.978423\n"
          ]
        }
      ]
    }
  ]
}