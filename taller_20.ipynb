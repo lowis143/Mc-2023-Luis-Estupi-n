{
  "nbformat": 4,
  "nbformat_minor": 0,
  "metadata": {
    "colab": {
      "provenance": []
    },
    "kernelspec": {
      "name": "python3",
      "display_name": "Python 3"
    },
    "language_info": {
      "name": "python"
    }
  },
  "cells": [
    {
      "cell_type": "code",
      "execution_count": null,
      "metadata": {
        "id": "oDBYnqF2RetD"
      },
      "outputs": [],
      "source": [
        "x = [0,1,2,3,4,5,6]\n",
        "y = [4.2,1.4,0,-0.4,-0.1,1.6,4.1]\n",
        "\n"
      ]
    },
    {
      "cell_type": "code",
      "source": [
        "import numpy as np\n",
        "\n",
        "# datos\n",
        "x = np.array([0, 1, 2, 3, 4, 5])\n",
        "y = np.array([5,5,13,24,36,65])\n",
        "\n",
        "# ajuste a polinomio de segundo grado\n",
        "coeffs = np.polyfit(x, y, 2)\n",
        "\n",
        "# coeficientes del polinomio\n",
        "a, b, c = coeffs\n",
        "\n",
        "# coeficiente de correlación\n",
        "corr = np.corrcoef(x, y)[0, 1]\n",
        "\n",
        "# imprimir resultados\n",
        "print(f\"Coeficientes del polinomio: a={a}, b={b}, c={c}\")\n",
        "print(f\"Coeficiente de correlación: r={corr}\")"
      ],
      "metadata": {
        "colab": {
          "base_uri": "https://localhost:8080/"
        },
        "id": "uT9n-7craeDz",
        "outputId": "a6417f37-21e2-4171-ad49-8a22004577cf"
      },
      "execution_count": 2,
      "outputs": [
        {
          "output_type": "stream",
          "name": "stdout",
          "text": [
            "Coeficientes del polinomio: a=2.8750000000000018, b=-2.8321428571428613, c=5.3928571428571574\n",
            "Coeficiente de correlación: r=0.9353121580456031\n"
          ]
        }
      ]
    },
    {
      "cell_type": "code",
      "source": [
        "import numpy as np\n",
        "\n",
        "# datos\n",
        "x = np.array([0, 1, 2, 3, 4, 5, 6])\n",
        "y = np.array([4.2, 1.4, 0, -0.4, -0.1, 1.6, 4.1])\n",
        "\n",
        "# ajuste a polinomio de segundo grado\n",
        "coeffs = np.polyfit(x, y, 2)\n",
        "\n",
        "# coeficientes del polinomio\n",
        "a, b, c = coeffs\n",
        "\n",
        "# coeficiente de correlación\n",
        "corr = np.corrcoef(x, y)[0, 1]\n",
        "\n",
        "# imprimir resultados\n",
        "print(f\"Coeficientes del polinomio: a={a}, b={b}, c={c}\")\n",
        "print(f\"Coeficiente de correlación: r={corr}\")\n"
      ],
      "metadata": {
        "colab": {
          "base_uri": "https://localhost:8080/"
        },
        "id": "UFeBlZRSUR-W",
        "outputId": "75096ad1-f9dc-4503-f74c-e4607bb094f3"
      },
      "execution_count": 1,
      "outputs": [
        {
          "output_type": "stream",
          "name": "stdout",
          "text": [
            "Coeficientes del polinomio: a=0.5166666666666674, b=-3.100000000000006, c=4.126190476190488\n",
            "Coeficiente de correlación: r=-3.5403862731113745e-17\n"
          ]
        }
      ]
    }
  ]
}