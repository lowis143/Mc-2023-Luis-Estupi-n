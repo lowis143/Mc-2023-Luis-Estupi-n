{
  "nbformat": 4,
  "nbformat_minor": 0,
  "metadata": {
    "colab": {
      "provenance": []
    },
    "kernelspec": {
      "name": "python3",
      "display_name": "Python 3"
    },
    "language_info": {
      "name": "python"
    }
  },
  "cells": [
    {
      "cell_type": "markdown",
      "source": [
        "punto 1"
      ],
      "metadata": {
        "id": "9nrCJOoYlFvC"
      }
    },
    {
      "cell_type": "code",
      "execution_count": 1,
      "metadata": {
        "colab": {
          "base_uri": "https://localhost:8080/"
        },
        "id": "y4Hnq5CnkJlj",
        "outputId": "2948b7fd-690a-4cfc-98a0-8bf6c36855c4"
      },
      "outputs": [
        {
          "output_type": "stream",
          "name": "stdout",
          "text": [
            "Ingrese la longitud de los vectores: 4\n",
            "Ingrese los valores del primer vector:\n",
            "Ingrese el valor 1: 1\n",
            "Ingrese el valor 2: 2\n",
            "Ingrese el valor 3: 3\n",
            "Ingrese el valor 4: 4\n",
            "Ingrese los valores del segundo vector:\n",
            "Ingrese el valor 1: 8\n",
            "Ingrese el valor 2: 6\n",
            "Ingrese el valor 3: 7\n",
            "Ingrese el valor 4: 4\n",
            "El producto escalar de los vectores [1.0, 2.0, 3.0, 4.0] y [8.0, 6.0, 7.0, 4.0] es 57.0.\n"
          ]
        }
      ],
      "source": [
        "n = int(input(\"Ingrese la longitud de los vectores: \"))\n",
        "\n",
        "# Crear el primer vector\n",
        "print(\"Ingrese los valores del primer vector:\")\n",
        "vector1 = []\n",
        "for i in range(n):\n",
        "    valor = float(input(f\"Ingrese el valor {i+1}: \"))\n",
        "    vector1.append(valor)\n",
        "\n",
        "# Crear el segundo vector\n",
        "print(\"Ingrese los valores del segundo vector:\")\n",
        "vector2 = []\n",
        "for i in range(n):\n",
        "    valor = float(input(f\"Ingrese el valor {i+1}: \"))\n",
        "    vector2.append(valor)\n",
        "\n",
        "# Calcular el producto escalar\n",
        "producto_escalar = 0\n",
        "for i in range(n):\n",
        "    producto_escalar += vector1[i] * vector2[i]\n",
        "\n",
        "print(f\"El producto escalar de los vectores {vector1} y {vector2} es {producto_escalar}.\")\n"
      ]
    },
    {
      "cell_type": "markdown",
      "source": [
        "punto 2"
      ],
      "metadata": {
        "id": "5eAFwLETlD63"
      }
    },
    {
      "cell_type": "code",
      "source": [
        "# Pedir las dimensiones de las matrices\n",
        "filas_A = int(input(\"Ingrese el número de filas de la matriz A: \"))\n",
        "columnas_A = int(input(\"Ingrese el número de columnas de la matriz A: \"))\n",
        "filas_B = int(input(\"Ingrese el número de filas de la matriz B: \"))\n",
        "columnas_B = int(input(\"Ingrese el número de columnas de la matriz B: \"))\n",
        "\n",
        "# Verificar si se pueden realizar las operaciones\n",
        "if filas_A != filas_B or columnas_A != columnas_B:\n",
        "    print(\"No se pueden realizar todas las operaciones porque las dimensiones de las matrices no son iguales.\")\n",
        "else:\n",
        "    # Crear la matriz A\n",
        "    print(\"Ingrese los valores de la matriz A:\")\n",
        "    matriz_A = []\n",
        "    for i in range(filas_A):\n",
        "        fila = []\n",
        "        for j in range(columnas_A):\n",
        "            valor = float(input(f\"Ingrese el valor de A[{i+1}][{j+1}]: \"))\n",
        "            fila.append(valor)\n",
        "        matriz_A.append(fila)\n",
        "\n",
        "    # Crear la matriz B\n",
        "    print(\"Ingrese los valores de la matriz B:\")\n",
        "    matriz_B = []\n",
        "    for i in range(filas_B):\n",
        "        fila = []2\n",
        "        for j in range(columnas_B):\n",
        "            valor = float(input(f\"Ingrese el valor de B[{i+1}][{j+1}]: \"))\n",
        "            fila.append(valor)\n",
        "        matriz_B.append(fila)\n",
        "\n",
        "    # Realizar las operaciones\n",
        "    matriz_3A = [[3 * matriz_A[i][j] for j in range(columnas_A)] for i in range(filas_A)]\n",
        "    matriz_4B = [[4 * matriz_B[i][j] for j in range(columnas_B)] for i in range(filas_B)]\n",
        "    matriz_suma = [[matriz_A[i][j] + matriz_B[i][j] for j in range(columnas_A)] for i in range(filas_A)]\n",
        "    matriz_producto = [[sum([matriz_B[i][k] * matriz_A[k][j] for k in range(columnas_A)]) for j in range(columnas_B)] for i in range(filas_B)]\n",
        "\n",
        "    # Imprimir los resultados\n",
        "    print(\"3A = \")\n",
        "    for fila in matriz_3A:\n",
        "        print(fila)\n",
        "    print(\"4B = \")\n",
        "    for fila in matriz_4B:\n",
        "        print(fila)\n",
        "    print(\"A + B = \")\n",
        "    for fila in matriz_suma:\n",
        "        print(fila)\n",
        "    print(\"B x A = \")\n",
        "    for fila in matriz_producto:\n",
        "        print(fila)\n"
      ],
      "metadata": {
        "colab": {
          "base_uri": "https://localhost:8080/"
        },
        "id": "I_VqffVUlC5x",
        "outputId": "5c00a10f-ffc1-4a53-a5ea-f032723d7a14"
      },
      "execution_count": 4,
      "outputs": [
        {
          "output_type": "stream",
          "name": "stdout",
          "text": [
            "Ingrese el número de filas de la matriz A: 2\n",
            "Ingrese el número de columnas de la matriz A: 2\n",
            "Ingrese el número de filas de la matriz B: 2\n",
            "Ingrese el número de columnas de la matriz B: 2\n",
            "Ingrese los valores de la matriz A:\n",
            "Ingrese el valor de A[1][1]: 4\n",
            "Ingrese el valor de A[1][2]: 5\n",
            "Ingrese el valor de A[2][1]: 6\n",
            "Ingrese el valor de A[2][2]: 1\n",
            "Ingrese los valores de la matriz B:\n",
            "Ingrese el valor de B[1][1]: 9\n",
            "Ingrese el valor de B[1][2]: 8\n",
            "Ingrese el valor de B[2][1]: 7\n",
            "Ingrese el valor de B[2][2]: 6\n",
            "3A = \n",
            "[12.0, 15.0]\n",
            "[18.0, 3.0]\n",
            "4B = \n",
            "[36.0, 32.0]\n",
            "[28.0, 24.0]\n",
            "A + B = \n",
            "[13.0, 13.0]\n",
            "[13.0, 7.0]\n",
            "B x A = \n",
            "[84.0, 53.0]\n",
            "[64.0, 41.0]\n"
          ]
        }
      ]
    }
  ]
}