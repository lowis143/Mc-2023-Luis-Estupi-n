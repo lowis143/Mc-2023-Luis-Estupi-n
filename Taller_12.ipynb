{
  "nbformat": 4,
  "nbformat_minor": 0,
  "metadata": {
    "colab": {
      "provenance": []
    },
    "kernelspec": {
      "name": "python3",
      "display_name": "Python 3"
    },
    "language_info": {
      "name": "python"
    }
  },
  "cells": [
    {
      "cell_type": "markdown",
      "source": [
        "##Cree un programa en python que estime mediante la serie de Taylor desde\n",
        "##orden cero (0) hasta orden 15 el valor de la función\n",
        "\n",
        "f x = e^−x\n",
        "\n",
        "en x = 0,455 tomando como base x = 0,45. Calcule para cada\n",
        "estimación el error aproximado relativo porcentual."
      ],
      "metadata": {
        "id": "DhN7TEuCIBjk"
      }
    },
    {
      "cell_type": "code",
      "execution_count": null,
      "metadata": {
        "colab": {
          "base_uri": "https://localhost:8080/"
        },
        "id": "wBlZ014CEaQZ",
        "outputId": "6505cac7-dc5a-4613-d9d0-887768082c2f"
      },
      "outputs": [
        {
          "output_type": "stream",
          "name": "stdout",
          "text": [
            "Valor exacto: 0.634447967948228\n",
            "Orden 0: 1.000000000000000 Error relativo porcentual: 57.617338303399102%\n",
            "Orden 1: 0.995000000000000 Error relativo porcentual: 56.829251611882114%\n",
            "Orden 2: 0.995012500000000 Error relativo porcentual: 56.831221828610900%\n",
            "Orden 3: 0.995012479166667 Error relativo porcentual: 56.831218544916361%\n",
            "Orden 4: 0.995012479192708 Error relativo porcentual: 56.831218549020967%\n",
            "Orden 5: 0.995012479192682 Error relativo porcentual: 56.831218549016860%\n",
            "Orden 6: 0.995012479192682 Error relativo porcentual: 56.831218549016860%\n",
            "Orden 7: 0.995012479192682 Error relativo porcentual: 56.831218549016860%\n",
            "Orden 8: 0.995012479192682 Error relativo porcentual: 56.831218549016860%\n",
            "Orden 9: 0.995012479192682 Error relativo porcentual: 56.831218549016860%\n",
            "Orden 10: 0.995012479192682 Error relativo porcentual: 56.831218549016860%\n",
            "Orden 11: 0.995012479192682 Error relativo porcentual: 56.831218549016860%\n",
            "Orden 12: 0.995012479192682 Error relativo porcentual: 56.831218549016860%\n",
            "Orden 13: 0.995012479192682 Error relativo porcentual: 56.831218549016860%\n",
            "Orden 14: 0.995012479192682 Error relativo porcentual: 56.831218549016860%\n",
            "Orden 15: 0.995012479192682 Error relativo porcentual: 56.831218549016860%\n"
          ]
        }
      ],
      "source": [
        "import math\n",
        "\n",
        "# Función que calcula el valor de f(x) = e^-x\n",
        "def f(x):\n",
        "  return math.exp(-x)\n",
        "\n",
        "# Valor de x para el cual se quiere estimar f(x)\n",
        "x = 0.455\n",
        "\n",
        "# Valor base de x\n",
        "x0 = 0.45\n",
        "iterador = 0\n",
        "\n",
        "\n",
        "# Valor real de f(x)\n",
        "real_value = f(x)\n",
        "\n",
        "# Estimación de f(x) utilizando la serie de Taylor hasta el orden 15\n",
        "approximations = []\n",
        "for i in range(16):\n",
        "  approximation = ((-1)*i * x*i) / math.factorial(i)\n",
        "  approximations.append(approximation)\n",
        "  approx_value = sum(approximations)\n",
        "  iterador+=1\n",
        "\n",
        "# Error aproximado relativo porcentual\n",
        "  error = abs((real_value - approx_value) / real_value) * 100\n",
        "\n",
        "# Imprimir resultados\n",
        "  print(\"Valor real de f(x) para x = 0.455:\", real_value)\n",
        "  print(\"Estimación de f(x) utilizando la serie de Taylor hasta el orden: \", iterador ,\" \", approx_value)\n",
        "  print(\"Error relativo porcentual:\", error)\n",
        "\n"
      ]
    }
  ]
}