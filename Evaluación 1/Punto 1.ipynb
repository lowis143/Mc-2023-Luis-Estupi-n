{
  "nbformat": 4,
  "nbformat_minor": 0,
  "metadata": {
    "colab": {
      "provenance": []
    },
    "kernelspec": {
      "name": "python3",
      "display_name": "Python 3"
    },
    "language_info": {
      "name": "python"
    }
  },
  "cells": [
    {
      "cell_type": "code",
      "execution_count": 16,
      "metadata": {
        "id": "kNC0bE2sOacX",
        "colab": {
          "base_uri": "https://localhost:8080/"
        },
        "outputId": "31d4a54c-8d5f-4887-b164-7eb9926f1d24"
      },
      "outputs": [
        {
          "output_type": "stream",
          "name": "stdout",
          "text": [
            "A intersección de C, union de A diferencia simetrica de B\n",
            "\n",
            "{2, 5, 7, 8, 10, 11, 12, 13, 14, 16, 17, 18, 19, 20, 21, 22, 23, 24, 25, 26, 27, 28, 29, 30, 33}\n",
            "\n",
            "A unión C, diferencia simetrica B con instersección A diferencia de C \n",
            "\n",
            "{8, 11, 12, 14, 17, 18, 20, 21, 23, 24, 26, 27, 29, 30}\n",
            "\n",
            "A unión de B, diferencia de A intersección de C, intersección de A unión B Unión de C \n",
            "\n",
            "{2, 5, 8, 9, 11, 12, 14, 15, 17, 18, 20, 21, 23, 24, 26, 27, 29, 30, 33}\n"
          ]
        }
      ],
      "source": [
        "set_a = set()\n",
        "set_b = set()\n",
        "set_c = set()\n",
        "\n",
        "\n",
        "set_a = {7,8,9,10,11,12,13,14,15,16,17,18,19,20,21,22,23,24,25,26,27,28,29,30}\n",
        "\n",
        "set_b = {2,5,7,9,15,22,33}\n",
        "\n",
        "set_c = {4,7,10,13,16,19,22,25,28}\n",
        "\n",
        "\n",
        "print(\"A intersección de C, union de A diferencia simetrica de B\")\n",
        "print(\"\")\n",
        "print((set_a.intersection(set_c)).union(set_a.symmetric_difference(set_b)) )\n",
        "print(\"\")\n",
        "print(\"A unión C, diferencia simetrica B con instersección A diferencia de C \")\n",
        "print(\"\")\n",
        "print((set_a.union(set_c).symmetric_difference(set_b)).intersection(set_a.difference(set_c)))\n",
        "print(\"\")\n",
        "print(\"A unión de B, diferencia de A intersección de C, intersección de A unión B Unión de C \")\n",
        "print(\"\")\n",
        "print((set_a.union(set_b)).difference((set_a.intersection(set_c))).intersection(set_a.union(set_b.union(set_c))))\n",
        "\n",
        "\n",
        "\n"
      ]
    }
  ]
}