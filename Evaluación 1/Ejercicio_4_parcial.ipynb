{
  "nbformat": 4,
  "nbformat_minor": 0,
  "metadata": {
    "colab": {
      "provenance": []
    },
    "kernelspec": {
      "name": "python3",
      "display_name": "Python 3"
    },
    "language_info": {
      "name": "python"
    }
  },
  "cells": [
    {
      "cell_type": "code",
      "execution_count": 1,
      "metadata": {
        "id": "9Dqwv49oQZtF",
        "colab": {
          "base_uri": "https://localhost:8080/"
        },
        "outputId": "19f67221-e8ef-4f20-9d7f-ba8afe78b95f"
      },
      "outputs": [
        {
          "output_type": "stream",
          "name": "stdout",
          "text": [
            "Resultados para x=1:\n",
            "Primera derivada hacia adelante: -1.196997\n",
            "Primera derivada hacia atrás: -1.202997\n",
            "Primera derivada centrada: -1.199997\n",
            "Segunda derivada hacia adelante: 3.009617\n",
            "Segunda derivada hacia atrás: 2.990417\n",
            "Segunda derivada centrada: 3.000002\n",
            "Valor verdadero de la segunda derivada: 0.180000\n"
          ]
        }
      ],
      "source": [
        "import numpy as np\n",
        "\n",
        "# Definir la función\n",
        "def f(x):\n",
        "    return 0.3*x**4 - 0.4*x**3 + 0.9*x**2 - 3*x + 3\n",
        "\n",
        "# Definir el tamaño de incremento\n",
        "h = 0.002\n",
        "\n",
        "# Definir los puntos donde se evaluarán las derivadas\n",
        "x1 = 1\n",
        "x3 = 3\n",
        "\n",
        "# Calcular las derivadas hacia adelante, hacia atrás y centradas para la primera y la segunda derivada\n",
        "df_forward_1 = (f(x1 + h) - f(x1)) / h\n",
        "df_backward_1 = (f(x1) - f(x1 - h)) / h\n",
        "df_central_1 = (f(x1 + h) - f(x1 - h)) / (2*h)\n",
        "\n",
        "df_forward_2 = (f(x1 + 2*h) - 2*f(x1 + h) + f(x1)) / h**2\n",
        "df_backward_2 = (f(x1) - 2*f(x1 - h) + f(x1 - 2*h)) / h**2\n",
        "df_central_2 = (f(x1 + h) - 2*f(x1) + f(x1 - h)) / h**2\n",
        "\n",
        "d2f_true = 0.18  # Valor verdadero de la segunda derivada evaluada en x=1\n",
        "\n",
        "# Imprimir los resultados para x=1\n",
        "print(\"Resultados para x=1:\")\n",
        "print(\"Primera derivada hacia adelante: {:.6f}\".format(df_forward_1))\n",
        "print(\"Primera derivada hacia atrás: {:.6f}\".format(df_backward_1))\n",
        "print(\"Primera derivada centrada: {:.6f}\".format(df_central_1))\n",
        "print(\"Segunda derivada hacia adelante: {:.6f}\".format(df_forward_2))\n",
        "print(\"Segunda derivada hacia atrás: {:.6f}\".format(df_backward_2))\n",
        "print(\"Segunda derivada centrada: {:.6f}\".format(df_central_2))\n",
        "print(\"Valor verdadero de la segunda derivada: {:.6f}\".format(d2f_true))\n",
        "\n",
        "# Calcular las derivadas hacia adelante, hacia atrás y centradas para la primera y la segunda derivada en x=3\n",
        "df_forward_1 = (f(x3 + h) - f(x3)) / h\n",
        "df_backward_1 = (f(x3) - f(x3 - h)) / h\n",
        "df_central_1 = (f(x3 + h) - f(x3 - h)) / (2*h)\n",
        "\n",
        "df_forward_2 = (f(x3 + 2*h) - 2*f(x3 + h) + f(x3)) / h**2\n",
        "df_backward_2 = (f(x3) - 2*f(x3 - h) + f(x3 - 2*h)) / h**2\n",
        "df_central_2 = (f(x3 + h) - 2*f(x3) + f(x3 - h)) / h**2\n",
        "\n",
        "d2f_true = -2.4  # Valor verdadero de la segunda derivada evaluada\n"
      ]
    }
  ]
}