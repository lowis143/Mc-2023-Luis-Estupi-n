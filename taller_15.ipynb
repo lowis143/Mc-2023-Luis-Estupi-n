{
  "nbformat": 4,
  "nbformat_minor": 0,
  "metadata": {
    "colab": {
      "provenance": []
    },
    "kernelspec": {
      "name": "python3",
      "display_name": "Python 3"
    },
    "language_info": {
      "name": "python"
    }
  },
  "cells": [
    {
      "cell_type": "code",
      "execution_count": 6,
      "metadata": {
        "colab": {
          "base_uri": "https://localhost:8080/"
        },
        "id": "cUq7WCBUT6Yt",
        "outputId": "900a1801-e98b-4f1f-90ed-72fe17b7879b"
      },
      "outputs": [
        {
          "output_type": "stream",
          "name": "stdout",
          "text": [
            "Inversa de A:\n",
            "[[ 1.  -2.   4. ]\n",
            " [-1.5  4.  -7.5]\n",
            " [ 0.5 -1.   1.5]]\n",
            "Inversa de B:\n",
            "[[ 0.33333333  0.66666667 -0.66666667  0.        ]\n",
            " [-0.06666667 -0.13333333  0.33333333  0.2       ]\n",
            " [ 0.26666667  0.53333333 -1.33333333  0.2       ]\n",
            " [ 0.2        -0.1        -0.         -0.1       ]]\n"
          ]
        }
      ],
      "source": [
        "import numpy as np\n",
        "\n",
        "def invert_matrix(A):\n",
        "    n = A.shape[0]\n",
        "    B = np.hstack([A, np.identity(n)])\n",
        "    for i in range(n):\n",
        "        pivot = B[i][i]\n",
        "        B[i] = B[i] / pivot\n",
        "        for j in range(n):\n",
        "            if j != i:\n",
        "                c = B[j][i]\n",
        "                B[j] = B[j] - c * B[i]\n",
        "    return B[:, n:]\n",
        "\n",
        "# Ejemplo de uso con la matriz A\n",
        "A = np.array([[3,2,2], [3,1,-3], [1,0,-2]])\n",
        "A_inv = invert_matrix(A)\n",
        "print(\"Inversa de A:\")\n",
        "print(A_inv)\n",
        "\n",
        "# Ejemplo de uso con la matriz B\n",
        "B = np.array([[1,2,0,4], [2,0,-1,-2], [1,1,-1,0], [0,4,1,0]])\n",
        "B_inv = invert_matrix(B)\n",
        "print(\"Inversa de B:\")\n",
        "print(B_inv)\n"
      ]
    }
  ]
}