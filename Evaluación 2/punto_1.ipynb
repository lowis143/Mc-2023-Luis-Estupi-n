{
  "nbformat": 4,
  "nbformat_minor": 0,
  "metadata": {
    "colab": {
      "provenance": []
    },
    "kernelspec": {
      "name": "python3",
      "display_name": "Python 3"
    },
    "language_info": {
      "name": "python"
    }
  },
  "cells": [
    {
      "cell_type": "code",
      "execution_count": 4,
      "metadata": {
        "colab": {
          "base_uri": "https://localhost:8080/"
        },
        "id": "Nui2k4nwq-ie",
        "outputId": "7e3913bf-d8b8-4357-f28c-c23c87e7973a"
      },
      "outputs": [
        {
          "output_type": "stream",
          "name": "stdout",
          "text": [
            "Matriz original:\n",
            "[[ 1  0 -1]\n",
            " [ 2  0  2]\n",
            " [ 8  2 -3]]\n",
            "\n",
            "Matriz inversa:\n",
            "[[ 0.5    0.25   0.   ]\n",
            " [-2.75  -0.625  0.5  ]\n",
            " [-0.5    0.25  -0.   ]]\n"
          ]
        }
      ],
      "source": [
        "import numpy as np\n",
        "\n",
        "# Definir la matriz\n",
        "matriz = np.array([[1, 0, -1],\n",
        "                   [2, 0, 2],\n",
        "                   [8, 2, -3]])\n",
        "\n",
        "# Calcular la matriz inversa\n",
        "matriz_inversa = np.linalg.inv(matriz)\n",
        "\n",
        "# Imprimir la matriz inversa\n",
        "print(\"Matriz original:\")\n",
        "print(matriz)\n",
        "print(\"\\nMatriz inversa:\")\n",
        "print(matriz_inversa)\n"
      ]
    }
  ]
}