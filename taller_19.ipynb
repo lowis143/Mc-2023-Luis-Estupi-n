{
  "nbformat": 4,
  "nbformat_minor": 0,
  "metadata": {
    "colab": {
      "provenance": []
    },
    "kernelspec": {
      "name": "python3",
      "display_name": "Python 3"
    },
    "language_info": {
      "name": "python"
    }
  },
  "cells": [
    {
      "cell_type": "code",
      "execution_count": 1,
      "metadata": {
        "colab": {
          "base_uri": "https://localhost:8080/"
        },
        "id": "H3WX41Vz1hDN",
        "outputId": "01d4bb4f-943d-49f3-ee12-8d2dad48ba96"
      },
      "outputs": [
        {
          "output_type": "stream",
          "name": "stdout",
          "text": [
            "promedio de X es de: 4.0\n",
            "promedio de Y es de: 4.9142857142857155\n",
            "sumatoria de x*y: 199.3\n",
            "sumatoria de x^2: 140\n",
            "a1 es igual a: 2.2035714285714283\n",
            "ao es igual a: -3.8999999999999977\n",
            "St: 149.96857142857147\n",
            "sr: 14.008214285714303\n",
            "Sy: 4.999476163035674\n",
            "sy/x: 1.6738108785471735\n",
            "r: 95.21514236883797\n"
          ]
        }
      ],
      "source": [
        "import math\n",
        "\n",
        "X = [1,2,3,4,5,6,7]\n",
        "Y = [0.2,0.5,1.8,3.4,5.7,9,13.8]\n",
        "\n",
        "promx = (sum(X)/7)\n",
        "print(\"promedio de X es de:\",promx)\n",
        "\n",
        "promy = (sum(Y)/7)\n",
        "print(\"promedio de Y es de:\",promy)\n",
        "\n",
        "\n",
        "xy = [X[i] * Y[i]\n",
        "      for i in range(len(X))]\n",
        "                  \n",
        "print(\"sumatoria de x*y:\",sum(xy))\n",
        "\n",
        "x2 = [X[i]**2\n",
        "      for i in range(len(X))]\n",
        "print(\"sumatoria de x^2:\", sum(x2))\n",
        "\n",
        "a1 = (len(X)*sum(xy)-sum(X)*sum(Y))/(len(X)*sum(x2)-(sum(X)**2))\n",
        "print(\"a1 es igual a:\",a1)\n",
        "\n",
        "ao = promy - (a1*promx)\n",
        "print(\"ao es igual a:\",ao)\n",
        "\n",
        "st = [Y[i] - promy\n",
        "      for i in range(len(X))]\n",
        "      \n",
        "\n",
        "st2 = [st[i]**2\n",
        "      for i in range(len(X))]\n",
        "\n",
        "print(\"St:\",sum(st2))\n",
        "\n",
        "sr = [Y[i] - ao - a1 * X[i]\n",
        "      for i in range(len(X))]\n",
        "\n",
        "sr2 = [sr[i]**2\n",
        "      for i in range(len(X))]\n",
        "\n",
        "print(\"sr:\",sum(sr2))\n",
        "\n",
        "print(\"Sy:\",math.sqrt(sum(st2)/6))\n",
        "\n",
        "\n",
        "print(\"sy/x:\",math.sqrt(sum(sr2)/5))\n",
        "\n",
        "r=(sum(st2)-sum(sr2))/(sum(st2))\n",
        "print(\"r:\",math.sqrt(r)*100)"
      ]
    }
  ]
}