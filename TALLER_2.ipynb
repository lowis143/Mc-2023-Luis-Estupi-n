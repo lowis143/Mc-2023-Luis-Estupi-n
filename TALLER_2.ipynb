{
  "nbformat": 4,
  "nbformat_minor": 0,
  "metadata": {
    "colab": {
      "provenance": []
    },
    "kernelspec": {
      "name": "python3",
      "display_name": "Python 3"
    },
    "language_info": {
      "name": "python"
    }
  },
  "cells": [
    {
      "cell_type": "code",
      "execution_count": 4,
      "metadata": {
        "colab": {
          "base_uri": "https://localhost:8080/"
        },
        "id": "cfBlskKJUSml",
        "outputId": "eb1ae1fc-4e4e-4e1a-ccb2-86a7909eb2cc"
      },
      "outputs": [
        {
          "output_type": "stream",
          "name": "stdout",
          "text": [
            "B intersección de C diferencia simetrica de D\n",
            "\n",
            "{1, 2, 3, 4, 5, 6, 7, 8, 10, 11, 12, 13, 14, 15, 16, 17, 18, 19, 20, 22, 23, 24, 29, 31, 37, 41, 43}\n",
            "\n",
            "A intersección C de unión B\n",
            "\n",
            "{2, 4, 6, 8, 10, 12, 14, 15, 16, 18, 20, 22, 24}\n",
            "\n",
            "B unión D de diferencia de C\n",
            "\n",
            "{2, 3, 5, 6, 7, 11, 13, 14, 16, 17, 19, 22, 23, 24, 29, 31, 37, 41, 43}\n",
            "\n",
            "A intersección de, diferencia simetrica de A intersección de D\n",
            "\n",
            "{2, 4, 6, 8, 10, 12, 14, 16, 18, 20, 22, 24}\n"
          ]
        }
      ],
      "source": [
        "set_a = set()\n",
        "set_b = set()\n",
        "set_c = set()\n",
        "set_d = set()\n",
        "\n",
        "set_a = {6,7,8,9,10,11,12,13,14,15,16,17,18,19,20}\n",
        "set_b = {2,4,6,8,10,12,14,16,18,20,22,24}\n",
        "set_c = {1, 4, 8, 10, 12, 15, 18, 20}\n",
        "set_d = {2,3,5,7,11,13,17,19,23,29,31,37,41,43}\n",
        "\n",
        "print(\"B intersección de C diferencia simetrica de D\")\n",
        "print(\"\")\n",
        "print(set_b.union(set_c.symmetric_difference(set_d)))\n",
        "print(\"\")\n",
        "print(\"A intersección C de unión B\")\n",
        "print(\"\")\n",
        "print((set_a.intersection(set_c)).union(set_b))\n",
        "print(\"\")\n",
        "print(\"B unión D de diferencia de C\")\n",
        "print(\"\")\n",
        "print((set_b.union(set_d)).difference(set_c))\n",
        "print(\"\")\n",
        "print(\"A intersección de, diferencia simetrica de A intersección de D\")\n",
        "print(\"\")\n",
        "print((set_a.difference(set_b)).symmetric_difference(set_a.union(set_b)) )"
      ]
    }
  ]
}