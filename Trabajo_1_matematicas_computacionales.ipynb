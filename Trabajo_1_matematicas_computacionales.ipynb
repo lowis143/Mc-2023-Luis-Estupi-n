{
  "nbformat": 4,
  "nbformat_minor": 0,
  "metadata": {
    "colab": {
      "provenance": []
    },
    "kernelspec": {
      "name": "python3",
      "display_name": "Python 3"
    },
    "language_info": {
      "name": "python"
    }
  },
  "cells": [
    {
      "cell_type": "code",
      "execution_count": null,
      "metadata": {
        "colab": {
          "base_uri": "https://localhost:8080/"
        },
        "id": "3s05c0VTpstP",
        "outputId": "b8b8e455-8b18-49da-d898-d44ed09f8942"
      },
      "outputs": [
        {
          "output_type": "stream",
          "name": "stdout",
          "text": [
            "Ingrese el primer grupo de números decimales separados por espacios: 1 2 3 5\n",
            "Ingrese el segundo grupo de números decimales separados por espacios: 1 2 5 6 4 3\n",
            "¿Qué operación desea realizar? (unión, intersección, diferencia, diferencia simétrica): union\n",
            "Conjunto resultante: [1.0, 2.0, 3.0, 4.0, 5.0, 6.0]\n",
            "Cardinalidad: 6\n"
          ]
        }
      ],
      "source": [
        "def union(a, b):\n",
        "    return list(set(a) | set(b)), len(set(a) | set(b))\n",
        "\n",
        "def intersection(a, b):\n",
        "    return list(set(a) & set(b)), len(set(a) & set(b))\n",
        "\n",
        "def difference(a, b):\n",
        "    return list(set(a) - set(b)), len(set(a) - set(b))\n",
        "\n",
        "def symmetric_difference(a, b):\n",
        "    return list(set(a) ^ set(b)), len(set(a) ^ set(b))\n",
        "\n",
        "def main():\n",
        "    set_a = list(map(float, input(\"Ingrese el primer grupo de números decimales separados por espacios: \").strip().split()))\n",
        "    set_b = list(map(float, input(\"Ingrese el segundo grupo de números decimales separados por espacios: \").strip().split()))\n",
        "    operation = input(\"¿Qué operación desea realizar? (unión, intersección, diferencia, diferencia simétrica): \").strip().lower()\n",
        "\n",
        "    if operation == \"union\":\n",
        "        result, cardinality = union(set_a, set_b)\n",
        "    elif operation == \"interseccion\":\n",
        "        result, cardinality = intersection(set_a, set_b)\n",
        "    elif operation == \"diferencia\":\n",
        "        result, cardinality = difference(set_a, set_b)\n",
        "    elif operation == \"diferencia simetrica\":\n",
        "        result, cardinality = symmetric_difference(set_a, set_b)\n",
        "    else:\n",
        "        print(\"Operación no reconocida.\")\n",
        "        return\n",
        "\n",
        "    print(\"Conjunto resultante:\", result)\n",
        "    print(\"Cardinalidad:\", cardinality)\n",
        "\n",
        "if __name__ == \"__main__\":\n",
        "    main()"
      ]
    }
  ]
}